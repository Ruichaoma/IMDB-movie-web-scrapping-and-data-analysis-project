{
 "cells": [
  {
   "cell_type": "markdown",
   "metadata": {},
   "source": [
    "### DSCI 510 Fall 2020 Final Project Submission"
   ]
  },
  {
   "cell_type": "markdown",
   "metadata": {},
   "source": [
    "1.**The name of student**:\n",
    "\n",
    "    Ruichao Ma (only one)"
   ]
  },
  {
   "cell_type": "markdown",
   "metadata": {},
   "source": [
    "2.**Any major “gotchas” to the code (i.e. things that don’t work, go slowly, could be improved, etc.)**:\n",
    "\n",
    "    The imdb dataset takes more than 5 minutes to scrape datasets from websites.\n",
    "    And I think some features are not necessary part for analysis. Such as movie plot, star names, I do not use them in\n",
    "    analysis. Next time to do similar projects I will put higher weights on features that useful in analysis. "
   ]
  },
  {
   "cell_type": "markdown",
   "metadata": {},
   "source": [
    "3.**Any libraries that need to be installed to run your code (see above)**\n",
    "\n",
    "    Package for data analysis:\n",
    "        import pandas as pd\n",
    "        import seaborn as sns\n",
    "        import matplotlib.pyplot as plt\n",
    "        import numpy as np\n",
    "        from scipy import stats\n",
    "        from mpl_toolkits import mplot3d\n",
    "\n",
    "    Package for data scraping:\n",
    "        import requests\n",
    "        import re\n",
    "        from bs4 import BeautifulSoup\n",
    "        import pandas as pd\n",
    "        import numpy as np\n",
    "        from sklearn.impute import SimpleImputer\n",
    "        import warnings\n",
    "        warnings.filterwarnings('ignore')\n",
    "        from IPython import get_ipython\n",
    "        import os\n",
    "        from imdb import IMDb\n",
    "        from omdbapi.movie_search import GetMovie\n",
    "        os.system('pip install omdb')\n",
    "        os.system('pip install omdbapi')\n",
    "        os.system('pip install IMDbPY')\n"
   ]
  },
  {
   "cell_type": "markdown",
   "metadata": {},
   "source": [
    "4.**Anything else you feel is relevant to the grading of your project**\n",
    "\n",
    "    My goal in my project is not structured very well. I want to explore correlationship between imdb rating scores in movies with lots of potential relevent features: budget, profits earned, number of audience, length of movie, oscar awards and nominations gain. Figured out their correlation patterns. However, I think these features may be a little bit overwhelming, so that may lead my structures in project be a little bit messy."
   ]
  },
  {
   "cell_type": "markdown",
   "metadata": {},
   "source": [
    "5.**What did you set out to study?  (i.e. what was the point of your project?  This should be close to your Milestone 1 assignment, but if you switched gears or changed things, note it here.)**\n",
    "\n",
    "    I want to explore correlationship between imdb rating scores in movies with lots of potential relevent features: budget, profits earned, number of audience, length of movie, oscar awards and nominations gain. Figured out common features in high rated movies. In this way, it is probable useful to predict whether movies gain high rated scores in IMDB by utilizing these common feature. Moreover, I want to know whether imdb rating, metascore and rotten tomatoes scoring system are dependent on each other."
   ]
  },
  {
   "cell_type": "markdown",
   "metadata": {},
   "source": [
    "6.**What did you Discover/what were your conclusions (i.e. what were your findings?  Were your original assumptions confirmed, etc.?)**\n",
    "\n",
    "    Most of features(movie length, budget, profits earned, oscar awards and nominations) have positive but weak correlationship with imdb rating score. It is a little bit unexpected. Originally I think more features will have strong positivecorrelation with imdb rating scores, like profits earned, oscar awards and nominations gained. The truth is that correlation indeed is positive, but less stronger than I originally thought. The strongest correlation I found is that between number of people who rate this movie and imdb rating score. It seems like high rated movies will likely have more people to rate this, or vice versa. Moreover, it seems like imdb, metascore, rotten tomatoes scores are three independent scoreing systems since their mutual correlation approach to zero."
   ]
  },
  {
   "cell_type": "markdown",
   "metadata": {},
   "source": [
    "7.**What difficulties did you have in completing the project?**\n",
    "\n",
    "    For me, the difficult part is web scrapping data process. Since some features information are not very structured in html code, even some data are missing, So I spend lots of work to scrape them and store them in organized and structured ways, and fill missing data with overall median values. "
   ]
  },
  {
   "cell_type": "markdown",
   "metadata": {},
   "source": [
    "8.**What skills did you wish you had while you were doing the project?**\n",
    "\n",
    "    1. how to use data visualization tools in actual context\n",
    "    2. how to web scrape data in python\n",
    "    3. how to use pandas dataframe to pre-process cleaning and merge data"
   ]
  },
  {
   "cell_type": "markdown",
   "metadata": {},
   "source": [
    "9.**What would you do “next” to expand or augment the project?**\n",
    "\n",
    "    First, I will include less features that irrelevent in analysis. Also, I will use more advanced data scientist's skills to analyze data. Like use machine learning to predict future imdb rating patterns based on relevent features, use support vector machine and decision tree to classify movies by their genres, oscar awards gain and make it viusalized more clearly."
   ]
  },
  {
   "cell_type": "code",
   "execution_count": 1,
   "metadata": {},
   "outputs": [],
   "source": [
    "import pandas as pd\n",
    "import seaborn as sns\n",
    "import matplotlib.pyplot as plt\n",
    "import numpy as np\n",
    "from scipy import stats"
   ]
  },
  {
   "cell_type": "code",
   "execution_count": 2,
   "metadata": {},
   "outputs": [],
   "source": [
    "##loading dataset\n",
    "imdb_info = pd.read_csv('data/imdb_top_250_movies.csv')\n",
    "omdb_info = pd.read_csv('data/omdb_api.csv')\n",
    "oscar_info = pd.read_csv('data/oscar_awarded_movie.csv')"
   ]
  },
  {
   "cell_type": "code",
   "execution_count": 3,
   "metadata": {},
   "outputs": [
    {
     "data": {
      "text/html": [
       "<div>\n",
       "<style scoped>\n",
       "    .dataframe tbody tr th:only-of-type {\n",
       "        vertical-align: middle;\n",
       "    }\n",
       "\n",
       "    .dataframe tbody tr th {\n",
       "        vertical-align: top;\n",
       "    }\n",
       "\n",
       "    .dataframe thead th {\n",
       "        text-align: right;\n",
       "    }\n",
       "</style>\n",
       "<table border=\"1\" class=\"dataframe\">\n",
       "  <thead>\n",
       "    <tr style=\"text-align: right;\">\n",
       "      <th></th>\n",
       "      <th>Title</th>\n",
       "      <th>url link</th>\n",
       "      <th>IMDB rating score</th>\n",
       "      <th>highest rating score</th>\n",
       "      <th>number of rating</th>\n",
       "      <th>number of audience(thousands)</th>\n",
       "      <th>movie type</th>\n",
       "      <th>movie length</th>\n",
       "      <th>movie genre</th>\n",
       "      <th>movie released date</th>\n",
       "      <th>stars</th>\n",
       "      <th>gross worldwide profit</th>\n",
       "      <th>number of production company</th>\n",
       "      <th>Budget(thousands in unit)</th>\n",
       "      <th>profits in USA</th>\n",
       "      <th>movie description</th>\n",
       "    </tr>\n",
       "    <tr>\n",
       "      <th>ranking among 250</th>\n",
       "      <th></th>\n",
       "      <th></th>\n",
       "      <th></th>\n",
       "      <th></th>\n",
       "      <th></th>\n",
       "      <th></th>\n",
       "      <th></th>\n",
       "      <th></th>\n",
       "      <th></th>\n",
       "      <th></th>\n",
       "      <th></th>\n",
       "      <th></th>\n",
       "      <th></th>\n",
       "      <th></th>\n",
       "      <th></th>\n",
       "      <th></th>\n",
       "    </tr>\n",
       "  </thead>\n",
       "  <tbody>\n",
       "    <tr>\n",
       "      <th>1</th>\n",
       "      <td>The Shawshank Redemption</td>\n",
       "      <td>https://www.imdb.com/title/tt0111161/</td>\n",
       "      <td>9.3</td>\n",
       "      <td>10</td>\n",
       "      <td>2311509</td>\n",
       "      <td>84</td>\n",
       "      <td>R</td>\n",
       "      <td>2h 22min</td>\n",
       "      <td>Drama</td>\n",
       "      <td>14 October 1994 (USA)</td>\n",
       "      <td>Tim Robbins,Morgan Freeman,Tim Robbins,Morgan ...</td>\n",
       "      <td>2.881529e+07</td>\n",
       "      <td>28</td>\n",
       "      <td>25000.0</td>\n",
       "      <td>28699976.0</td>\n",
       "      <td>Two imprisoned men bond over a number of years...</td>\n",
       "    </tr>\n",
       "    <tr>\n",
       "      <th>2</th>\n",
       "      <td>The Godfather</td>\n",
       "      <td>https://www.imdb.com/title/tt0068646/</td>\n",
       "      <td>9.2</td>\n",
       "      <td>10</td>\n",
       "      <td>1595586</td>\n",
       "      <td>40</td>\n",
       "      <td>R</td>\n",
       "      <td>2h 55min</td>\n",
       "      <td>Crime,Drama</td>\n",
       "      <td>24 March 1972 (USA)</td>\n",
       "      <td>Marlon Brando,Al Pacino,Marlon Brando,Al Pacin...</td>\n",
       "      <td>2.461210e+08</td>\n",
       "      <td>42</td>\n",
       "      <td>6000.0</td>\n",
       "      <td>134966411.0</td>\n",
       "      <td>The aging patriarch of an organized crime dyna...</td>\n",
       "    </tr>\n",
       "    <tr>\n",
       "      <th>3</th>\n",
       "      <td>The Godfather: Part II</td>\n",
       "      <td>https://www.imdb.com/title/tt0071562/</td>\n",
       "      <td>9.0</td>\n",
       "      <td>10</td>\n",
       "      <td>1114697</td>\n",
       "      <td>10</td>\n",
       "      <td>R</td>\n",
       "      <td>3h 22min</td>\n",
       "      <td>Crime,Drama</td>\n",
       "      <td>18 December 1974 (USA)</td>\n",
       "      <td>Al Pacino,Robert De Niro,Al Pacino,Robert De N...</td>\n",
       "      <td>4.803578e+07</td>\n",
       "      <td>63</td>\n",
       "      <td>13000.0</td>\n",
       "      <td>47834595.0</td>\n",
       "      <td>The early life and career of Vito Corleone in ...</td>\n",
       "    </tr>\n",
       "    <tr>\n",
       "      <th>4</th>\n",
       "      <td>The Dark Knight</td>\n",
       "      <td>https://www.imdb.com/title/tt0468569/</td>\n",
       "      <td>9.0</td>\n",
       "      <td>10</td>\n",
       "      <td>2274212</td>\n",
       "      <td>70</td>\n",
       "      <td>PG-13</td>\n",
       "      <td>2h 32min</td>\n",
       "      <td>Action,Crime,Drama</td>\n",
       "      <td>18 July 2008 (USA)</td>\n",
       "      <td>Christian Bale,Heath Ledger,Christian Bale,Hea...</td>\n",
       "      <td>1.005457e+09</td>\n",
       "      <td>51</td>\n",
       "      <td>18500.0</td>\n",
       "      <td>535234033.0</td>\n",
       "      <td>When the menace known as the Joker wreaks havo...</td>\n",
       "    </tr>\n",
       "    <tr>\n",
       "      <th>5</th>\n",
       "      <td>12 Angry Men</td>\n",
       "      <td>https://www.imdb.com/title/tt0050083/</td>\n",
       "      <td>9.0</td>\n",
       "      <td>10</td>\n",
       "      <td>679807</td>\n",
       "      <td>16</td>\n",
       "      <td>Approved</td>\n",
       "      <td>1h 36min</td>\n",
       "      <td>Crime,Drama</td>\n",
       "      <td>10 April 1957 (USA)</td>\n",
       "      <td>Henry Fonda,Lee J. Cobb,Henry Fonda,Lee J. Cob...</td>\n",
       "      <td>5.760000e+02</td>\n",
       "      <td>25</td>\n",
       "      <td>35000.0</td>\n",
       "      <td>33812900.0</td>\n",
       "      <td>A jury holdout attempts to prevent a miscarria...</td>\n",
       "    </tr>\n",
       "  </tbody>\n",
       "</table>\n",
       "</div>"
      ],
      "text/plain": [
       "                                      Title  \\\n",
       "ranking among 250                             \n",
       "1                  The Shawshank Redemption   \n",
       "2                             The Godfather   \n",
       "3                    The Godfather: Part II   \n",
       "4                           The Dark Knight   \n",
       "5                              12 Angry Men   \n",
       "\n",
       "                                                url link  IMDB rating score  \\\n",
       "ranking among 250                                                             \n",
       "1                  https://www.imdb.com/title/tt0111161/                9.3   \n",
       "2                  https://www.imdb.com/title/tt0068646/                9.2   \n",
       "3                  https://www.imdb.com/title/tt0071562/                9.0   \n",
       "4                  https://www.imdb.com/title/tt0468569/                9.0   \n",
       "5                  https://www.imdb.com/title/tt0050083/                9.0   \n",
       "\n",
       "                   highest rating score  number of rating  \\\n",
       "ranking among 250                                           \n",
       "1                                    10           2311509   \n",
       "2                                    10           1595586   \n",
       "3                                    10           1114697   \n",
       "4                                    10           2274212   \n",
       "5                                    10            679807   \n",
       "\n",
       "                   number of audience(thousands) movie type movie length  \\\n",
       "ranking among 250                                                          \n",
       "1                                             84          R     2h 22min   \n",
       "2                                             40          R     2h 55min   \n",
       "3                                             10          R     3h 22min   \n",
       "4                                             70      PG-13     2h 32min   \n",
       "5                                             16   Approved     1h 36min   \n",
       "\n",
       "                          movie genre     movie released date  \\\n",
       "ranking among 250                                               \n",
       "1                               Drama   14 October 1994 (USA)   \n",
       "2                         Crime,Drama     24 March 1972 (USA)   \n",
       "3                         Crime,Drama  18 December 1974 (USA)   \n",
       "4                  Action,Crime,Drama      18 July 2008 (USA)   \n",
       "5                         Crime,Drama     10 April 1957 (USA)   \n",
       "\n",
       "                                                               stars  \\\n",
       "ranking among 250                                                      \n",
       "1                  Tim Robbins,Morgan Freeman,Tim Robbins,Morgan ...   \n",
       "2                  Marlon Brando,Al Pacino,Marlon Brando,Al Pacin...   \n",
       "3                  Al Pacino,Robert De Niro,Al Pacino,Robert De N...   \n",
       "4                  Christian Bale,Heath Ledger,Christian Bale,Hea...   \n",
       "5                  Henry Fonda,Lee J. Cobb,Henry Fonda,Lee J. Cob...   \n",
       "\n",
       "                   gross worldwide profit  number of production company  \\\n",
       "ranking among 250                                                         \n",
       "1                            2.881529e+07                            28   \n",
       "2                            2.461210e+08                            42   \n",
       "3                            4.803578e+07                            63   \n",
       "4                            1.005457e+09                            51   \n",
       "5                            5.760000e+02                            25   \n",
       "\n",
       "                   Budget(thousands in unit)  profits in USA  \\\n",
       "ranking among 250                                              \n",
       "1                                    25000.0      28699976.0   \n",
       "2                                     6000.0     134966411.0   \n",
       "3                                    13000.0      47834595.0   \n",
       "4                                    18500.0     535234033.0   \n",
       "5                                    35000.0      33812900.0   \n",
       "\n",
       "                                                   movie description  \n",
       "ranking among 250                                                     \n",
       "1                  Two imprisoned men bond over a number of years...  \n",
       "2                  The aging patriarch of an organized crime dyna...  \n",
       "3                  The early life and career of Vito Corleone in ...  \n",
       "4                  When the menace known as the Joker wreaks havo...  \n",
       "5                  A jury holdout attempts to prevent a miscarria...  "
      ]
     },
     "execution_count": 3,
     "metadata": {},
     "output_type": "execute_result"
    }
   ],
   "source": [
    "##using ranking among 250 as index\n",
    "imdb_info=imdb_info.set_index(['ranking among 250'], drop=True)\n",
    "##change column name to 'title' so it is convenient for merge other dataset\n",
    "imdb_info.rename(columns = {'movie name':'Title'}, inplace = True) \n",
    "##show what dataset looks like\n",
    "imdb_info.head(5)"
   ]
  },
  {
   "cell_type": "code",
   "execution_count": 4,
   "metadata": {},
   "outputs": [
    {
     "data": {
      "text/html": [
       "<div>\n",
       "<style scoped>\n",
       "    .dataframe tbody tr th:only-of-type {\n",
       "        vertical-align: middle;\n",
       "    }\n",
       "\n",
       "    .dataframe tbody tr th {\n",
       "        vertical-align: top;\n",
       "    }\n",
       "\n",
       "    .dataframe thead th {\n",
       "        text-align: right;\n",
       "    }\n",
       "</style>\n",
       "<table border=\"1\" class=\"dataframe\">\n",
       "  <thead>\n",
       "    <tr style=\"text-align: right;\">\n",
       "      <th></th>\n",
       "      <th>Title</th>\n",
       "      <th>Metascore</th>\n",
       "      <th>Rotten Tomatoes Score</th>\n",
       "      <th>Year</th>\n",
       "      <th>Country</th>\n",
       "      <th>Runtime(min)</th>\n",
       "      <th>Language</th>\n",
       "      <th>Director</th>\n",
       "      <th>Writer</th>\n",
       "      <th>Production Company</th>\n",
       "      <th>Type</th>\n",
       "      <th>Plot</th>\n",
       "    </tr>\n",
       "    <tr>\n",
       "      <th>Ranking among 250</th>\n",
       "      <th></th>\n",
       "      <th></th>\n",
       "      <th></th>\n",
       "      <th></th>\n",
       "      <th></th>\n",
       "      <th></th>\n",
       "      <th></th>\n",
       "      <th></th>\n",
       "      <th></th>\n",
       "      <th></th>\n",
       "      <th></th>\n",
       "      <th></th>\n",
       "    </tr>\n",
       "  </thead>\n",
       "  <tbody>\n",
       "    <tr>\n",
       "      <th>1</th>\n",
       "      <td>The Shawshank Redemption</td>\n",
       "      <td>80.0</td>\n",
       "      <td>91.0</td>\n",
       "      <td>1994</td>\n",
       "      <td>USA</td>\n",
       "      <td>142</td>\n",
       "      <td>English</td>\n",
       "      <td>Frank Darabont</td>\n",
       "      <td>Stephen King (short story \"Rita Hayworth and S...</td>\n",
       "      <td>Columbia Pictures, Castle Rock Entertainment</td>\n",
       "      <td>movie</td>\n",
       "      <td>Chronicles the experiences of a formerly succe...</td>\n",
       "    </tr>\n",
       "    <tr>\n",
       "      <th>2</th>\n",
       "      <td>The Godfather</td>\n",
       "      <td>100.0</td>\n",
       "      <td>98.0</td>\n",
       "      <td>1972</td>\n",
       "      <td>USA</td>\n",
       "      <td>175</td>\n",
       "      <td>English, Italian, Latin</td>\n",
       "      <td>Francis Ford Coppola</td>\n",
       "      <td>Mario Puzo (screenplay by), Francis Ford Coppo...</td>\n",
       "      <td>Paramount Pictures</td>\n",
       "      <td>movie</td>\n",
       "      <td>When the aging head of a famous crime family d...</td>\n",
       "    </tr>\n",
       "    <tr>\n",
       "      <th>3</th>\n",
       "      <td>The Godfather: Part II</td>\n",
       "      <td>90.0</td>\n",
       "      <td>98.0</td>\n",
       "      <td>1974</td>\n",
       "      <td>USA</td>\n",
       "      <td>202</td>\n",
       "      <td>English, Italian, Spanish, Latin, Sicilian</td>\n",
       "      <td>Francis Ford Coppola</td>\n",
       "      <td>Francis Ford Coppola (screenplay by), Mario Pu...</td>\n",
       "      <td>Paramount Pictures, Coppola Company</td>\n",
       "      <td>movie</td>\n",
       "      <td>The continuing saga of the Corleone crime fami...</td>\n",
       "    </tr>\n",
       "    <tr>\n",
       "      <th>4</th>\n",
       "      <td>The Dark Knight</td>\n",
       "      <td>84.0</td>\n",
       "      <td>94.0</td>\n",
       "      <td>2008</td>\n",
       "      <td>USA, UK</td>\n",
       "      <td>152</td>\n",
       "      <td>English, Mandarin</td>\n",
       "      <td>Christopher Nolan</td>\n",
       "      <td>Jonathan Nolan (screenplay), Christopher Nolan...</td>\n",
       "      <td>Syncopy</td>\n",
       "      <td>movie</td>\n",
       "      <td>Set within a year after the events of Batman B...</td>\n",
       "    </tr>\n",
       "    <tr>\n",
       "      <th>5</th>\n",
       "      <td>12 Angry Men</td>\n",
       "      <td>96.0</td>\n",
       "      <td>10.0</td>\n",
       "      <td>1957</td>\n",
       "      <td>USA</td>\n",
       "      <td>96</td>\n",
       "      <td>English</td>\n",
       "      <td>Sidney Lumet</td>\n",
       "      <td>Reginald Rose (story), Reginald Rose (screenplay)</td>\n",
       "      <td>Orion-Nova Pictures</td>\n",
       "      <td>movie</td>\n",
       "      <td>The defense and the prosecution have rested an...</td>\n",
       "    </tr>\n",
       "  </tbody>\n",
       "</table>\n",
       "</div>"
      ],
      "text/plain": [
       "                                      Title  Metascore  Rotten Tomatoes Score  \\\n",
       "Ranking among 250                                                               \n",
       "1                  The Shawshank Redemption       80.0                   91.0   \n",
       "2                             The Godfather      100.0                   98.0   \n",
       "3                    The Godfather: Part II       90.0                   98.0   \n",
       "4                           The Dark Knight       84.0                   94.0   \n",
       "5                              12 Angry Men       96.0                   10.0   \n",
       "\n",
       "                   Year  Country  Runtime(min)  \\\n",
       "Ranking among 250                                \n",
       "1                  1994      USA           142   \n",
       "2                  1972      USA           175   \n",
       "3                  1974      USA           202   \n",
       "4                  2008  USA, UK           152   \n",
       "5                  1957      USA            96   \n",
       "\n",
       "                                                     Language  \\\n",
       "Ranking among 250                                               \n",
       "1                                                     English   \n",
       "2                                     English, Italian, Latin   \n",
       "3                  English, Italian, Spanish, Latin, Sicilian   \n",
       "4                                           English, Mandarin   \n",
       "5                                                     English   \n",
       "\n",
       "                               Director  \\\n",
       "Ranking among 250                         \n",
       "1                        Frank Darabont   \n",
       "2                  Francis Ford Coppola   \n",
       "3                  Francis Ford Coppola   \n",
       "4                     Christopher Nolan   \n",
       "5                          Sidney Lumet   \n",
       "\n",
       "                                                              Writer  \\\n",
       "Ranking among 250                                                      \n",
       "1                  Stephen King (short story \"Rita Hayworth and S...   \n",
       "2                  Mario Puzo (screenplay by), Francis Ford Coppo...   \n",
       "3                  Francis Ford Coppola (screenplay by), Mario Pu...   \n",
       "4                  Jonathan Nolan (screenplay), Christopher Nolan...   \n",
       "5                  Reginald Rose (story), Reginald Rose (screenplay)   \n",
       "\n",
       "                                             Production Company   Type  \\\n",
       "Ranking among 250                                                        \n",
       "1                  Columbia Pictures, Castle Rock Entertainment  movie   \n",
       "2                                            Paramount Pictures  movie   \n",
       "3                           Paramount Pictures, Coppola Company  movie   \n",
       "4                                                       Syncopy  movie   \n",
       "5                                           Orion-Nova Pictures  movie   \n",
       "\n",
       "                                                                Plot  \n",
       "Ranking among 250                                                     \n",
       "1                  Chronicles the experiences of a formerly succe...  \n",
       "2                  When the aging head of a famous crime family d...  \n",
       "3                  The continuing saga of the Corleone crime fami...  \n",
       "4                  Set within a year after the events of Batman B...  \n",
       "5                  The defense and the prosecution have rested an...  "
      ]
     },
     "execution_count": 4,
     "metadata": {},
     "output_type": "execute_result"
    }
   ],
   "source": [
    "##using ranking among 250 as index\n",
    "omdb_info=omdb_info.set_index(['Ranking among 250'], drop=True)\n",
    "omdb_info.head(5)"
   ]
  },
  {
   "cell_type": "code",
   "execution_count": 5,
   "metadata": {},
   "outputs": [
    {
     "data": {
      "text/html": [
       "<div>\n",
       "<style scoped>\n",
       "    .dataframe tbody tr th:only-of-type {\n",
       "        vertical-align: middle;\n",
       "    }\n",
       "\n",
       "    .dataframe tbody tr th {\n",
       "        vertical-align: top;\n",
       "    }\n",
       "\n",
       "    .dataframe thead th {\n",
       "        text-align: right;\n",
       "    }\n",
       "</style>\n",
       "<table border=\"1\" class=\"dataframe\">\n",
       "  <thead>\n",
       "    <tr style=\"text-align: right;\">\n",
       "      <th></th>\n",
       "      <th>Title</th>\n",
       "      <th>url link</th>\n",
       "      <th>IMDB rating score</th>\n",
       "      <th>highest rating score</th>\n",
       "      <th>number of rating</th>\n",
       "      <th>number of audience(thousands)</th>\n",
       "      <th>movie type</th>\n",
       "      <th>movie length</th>\n",
       "      <th>movie genre</th>\n",
       "      <th>movie released date</th>\n",
       "      <th>...</th>\n",
       "      <th>Rotten Tomatoes Score</th>\n",
       "      <th>Year</th>\n",
       "      <th>Country</th>\n",
       "      <th>Runtime(min)</th>\n",
       "      <th>Language</th>\n",
       "      <th>Director</th>\n",
       "      <th>Writer</th>\n",
       "      <th>Production Company</th>\n",
       "      <th>Type</th>\n",
       "      <th>Plot</th>\n",
       "    </tr>\n",
       "  </thead>\n",
       "  <tbody>\n",
       "    <tr>\n",
       "      <th>0</th>\n",
       "      <td>The Shawshank Redemption</td>\n",
       "      <td>https://www.imdb.com/title/tt0111161/</td>\n",
       "      <td>9.3</td>\n",
       "      <td>10</td>\n",
       "      <td>2311509</td>\n",
       "      <td>84</td>\n",
       "      <td>R</td>\n",
       "      <td>2h 22min</td>\n",
       "      <td>Drama</td>\n",
       "      <td>14 October 1994 (USA)</td>\n",
       "      <td>...</td>\n",
       "      <td>91.0</td>\n",
       "      <td>1994.0</td>\n",
       "      <td>USA</td>\n",
       "      <td>142.0</td>\n",
       "      <td>English</td>\n",
       "      <td>Frank Darabont</td>\n",
       "      <td>Stephen King (short story \"Rita Hayworth and S...</td>\n",
       "      <td>Columbia Pictures, Castle Rock Entertainment</td>\n",
       "      <td>movie</td>\n",
       "      <td>Chronicles the experiences of a formerly succe...</td>\n",
       "    </tr>\n",
       "    <tr>\n",
       "      <th>1</th>\n",
       "      <td>The Godfather</td>\n",
       "      <td>https://www.imdb.com/title/tt0068646/</td>\n",
       "      <td>9.2</td>\n",
       "      <td>10</td>\n",
       "      <td>1595586</td>\n",
       "      <td>40</td>\n",
       "      <td>R</td>\n",
       "      <td>2h 55min</td>\n",
       "      <td>Crime,Drama</td>\n",
       "      <td>24 March 1972 (USA)</td>\n",
       "      <td>...</td>\n",
       "      <td>98.0</td>\n",
       "      <td>1972.0</td>\n",
       "      <td>USA</td>\n",
       "      <td>175.0</td>\n",
       "      <td>English, Italian, Latin</td>\n",
       "      <td>Francis Ford Coppola</td>\n",
       "      <td>Mario Puzo (screenplay by), Francis Ford Coppo...</td>\n",
       "      <td>Paramount Pictures</td>\n",
       "      <td>movie</td>\n",
       "      <td>When the aging head of a famous crime family d...</td>\n",
       "    </tr>\n",
       "    <tr>\n",
       "      <th>2</th>\n",
       "      <td>The Godfather: Part II</td>\n",
       "      <td>https://www.imdb.com/title/tt0071562/</td>\n",
       "      <td>9.0</td>\n",
       "      <td>10</td>\n",
       "      <td>1114697</td>\n",
       "      <td>10</td>\n",
       "      <td>R</td>\n",
       "      <td>3h 22min</td>\n",
       "      <td>Crime,Drama</td>\n",
       "      <td>18 December 1974 (USA)</td>\n",
       "      <td>...</td>\n",
       "      <td>98.0</td>\n",
       "      <td>1974.0</td>\n",
       "      <td>USA</td>\n",
       "      <td>202.0</td>\n",
       "      <td>English, Italian, Spanish, Latin, Sicilian</td>\n",
       "      <td>Francis Ford Coppola</td>\n",
       "      <td>Francis Ford Coppola (screenplay by), Mario Pu...</td>\n",
       "      <td>Paramount Pictures, Coppola Company</td>\n",
       "      <td>movie</td>\n",
       "      <td>The continuing saga of the Corleone crime fami...</td>\n",
       "    </tr>\n",
       "    <tr>\n",
       "      <th>3</th>\n",
       "      <td>The Dark Knight</td>\n",
       "      <td>https://www.imdb.com/title/tt0468569/</td>\n",
       "      <td>9.0</td>\n",
       "      <td>10</td>\n",
       "      <td>2274212</td>\n",
       "      <td>70</td>\n",
       "      <td>PG-13</td>\n",
       "      <td>2h 32min</td>\n",
       "      <td>Action,Crime,Drama</td>\n",
       "      <td>18 July 2008 (USA)</td>\n",
       "      <td>...</td>\n",
       "      <td>94.0</td>\n",
       "      <td>2008.0</td>\n",
       "      <td>USA, UK</td>\n",
       "      <td>152.0</td>\n",
       "      <td>English, Mandarin</td>\n",
       "      <td>Christopher Nolan</td>\n",
       "      <td>Jonathan Nolan (screenplay), Christopher Nolan...</td>\n",
       "      <td>Syncopy</td>\n",
       "      <td>movie</td>\n",
       "      <td>Set within a year after the events of Batman B...</td>\n",
       "    </tr>\n",
       "    <tr>\n",
       "      <th>4</th>\n",
       "      <td>12 Angry Men</td>\n",
       "      <td>https://www.imdb.com/title/tt0050083/</td>\n",
       "      <td>9.0</td>\n",
       "      <td>10</td>\n",
       "      <td>679807</td>\n",
       "      <td>16</td>\n",
       "      <td>Approved</td>\n",
       "      <td>1h 36min</td>\n",
       "      <td>Crime,Drama</td>\n",
       "      <td>10 April 1957 (USA)</td>\n",
       "      <td>...</td>\n",
       "      <td>10.0</td>\n",
       "      <td>1957.0</td>\n",
       "      <td>USA</td>\n",
       "      <td>96.0</td>\n",
       "      <td>English</td>\n",
       "      <td>Sidney Lumet</td>\n",
       "      <td>Reginald Rose (story), Reginald Rose (screenplay)</td>\n",
       "      <td>Orion-Nova Pictures</td>\n",
       "      <td>movie</td>\n",
       "      <td>The defense and the prosecution have rested an...</td>\n",
       "    </tr>\n",
       "  </tbody>\n",
       "</table>\n",
       "<p>5 rows × 27 columns</p>\n",
       "</div>"
      ],
      "text/plain": [
       "                      Title                               url link  \\\n",
       "0  The Shawshank Redemption  https://www.imdb.com/title/tt0111161/   \n",
       "1             The Godfather  https://www.imdb.com/title/tt0068646/   \n",
       "2    The Godfather: Part II  https://www.imdb.com/title/tt0071562/   \n",
       "3           The Dark Knight  https://www.imdb.com/title/tt0468569/   \n",
       "4              12 Angry Men  https://www.imdb.com/title/tt0050083/   \n",
       "\n",
       "   IMDB rating score  highest rating score  number of rating  \\\n",
       "0                9.3                    10           2311509   \n",
       "1                9.2                    10           1595586   \n",
       "2                9.0                    10           1114697   \n",
       "3                9.0                    10           2274212   \n",
       "4                9.0                    10            679807   \n",
       "\n",
       "   number of audience(thousands) movie type movie length         movie genre  \\\n",
       "0                             84          R     2h 22min               Drama   \n",
       "1                             40          R     2h 55min         Crime,Drama   \n",
       "2                             10          R     3h 22min         Crime,Drama   \n",
       "3                             70      PG-13     2h 32min  Action,Crime,Drama   \n",
       "4                             16   Approved     1h 36min         Crime,Drama   \n",
       "\n",
       "      movie released date  ... Rotten Tomatoes Score    Year  Country  \\\n",
       "0   14 October 1994 (USA)  ...                  91.0  1994.0      USA   \n",
       "1     24 March 1972 (USA)  ...                  98.0  1972.0      USA   \n",
       "2  18 December 1974 (USA)  ...                  98.0  1974.0      USA   \n",
       "3      18 July 2008 (USA)  ...                  94.0  2008.0  USA, UK   \n",
       "4     10 April 1957 (USA)  ...                  10.0  1957.0      USA   \n",
       "\n",
       "   Runtime(min)                                    Language  \\\n",
       "0         142.0                                     English   \n",
       "1         175.0                     English, Italian, Latin   \n",
       "2         202.0  English, Italian, Spanish, Latin, Sicilian   \n",
       "3         152.0                           English, Mandarin   \n",
       "4          96.0                                     English   \n",
       "\n",
       "               Director                                             Writer  \\\n",
       "0        Frank Darabont  Stephen King (short story \"Rita Hayworth and S...   \n",
       "1  Francis Ford Coppola  Mario Puzo (screenplay by), Francis Ford Coppo...   \n",
       "2  Francis Ford Coppola  Francis Ford Coppola (screenplay by), Mario Pu...   \n",
       "3     Christopher Nolan  Jonathan Nolan (screenplay), Christopher Nolan...   \n",
       "4          Sidney Lumet  Reginald Rose (story), Reginald Rose (screenplay)   \n",
       "\n",
       "                             Production Company   Type  \\\n",
       "0  Columbia Pictures, Castle Rock Entertainment  movie   \n",
       "1                            Paramount Pictures  movie   \n",
       "2           Paramount Pictures, Coppola Company  movie   \n",
       "3                                       Syncopy  movie   \n",
       "4                           Orion-Nova Pictures  movie   \n",
       "\n",
       "                                                Plot  \n",
       "0  Chronicles the experiences of a formerly succe...  \n",
       "1  When the aging head of a famous crime family d...  \n",
       "2  The continuing saga of the Corleone crime fami...  \n",
       "3  Set within a year after the events of Batman B...  \n",
       "4  The defense and the prosecution have rested an...  \n",
       "\n",
       "[5 rows x 27 columns]"
      ]
     },
     "execution_count": 5,
     "metadata": {},
     "output_type": "execute_result"
    }
   ],
   "source": [
    "##merge imdb_top_250_movies dataset with omdb_api\n",
    "imdb_omdb_merged = pd.merge(left=imdb_info, right=omdb_info, how='left',on='Title')\n",
    "imdb_omdb_merged.head(5)"
   ]
  },
  {
   "cell_type": "code",
   "execution_count": 6,
   "metadata": {},
   "outputs": [
    {
     "data": {
      "text/plain": [
       "<seaborn.axisgrid.FacetGrid at 0x2d47d3a6cc0>"
      ]
     },
     "execution_count": 6,
     "metadata": {},
     "output_type": "execute_result"
    },
    {
     "data": {
      "image/png": "[encoded data removed]",
      "text/plain": [
       "<Figure size 360x360 with 1 Axes>"
      ]
     },
     "metadata": {
      "needs_background": "light"
     },
     "output_type": "display_data"
    }
   ],
   "source": [
    "##showing correlation plot between IMDB rating score and Metascore,to figure out whether two scoring systems are independent\n",
    "##with each other\n",
    "sns.lmplot(x='IMDB rating score', y='Metascore', data=imdb_omdb_merged, fit_reg=True)"
   ]
  },
  {
   "cell_type": "code",
   "execution_count": 7,
   "metadata": {},
   "outputs": [
    {
     "name": "stdout",
     "output_type": "stream",
     "text": [
      "The coefficient correlation between IMDB rating score and Rotten Tomatoes Score is 0.0815870431818688\n"
     ]
    }
   ],
   "source": [
    "##calculating correlation coefficient\n",
    "corr_imdb_meta = imdb_omdb_merged['IMDB rating score'].corr(imdb_omdb_merged['Metascore'])\n",
    "print('The coefficient correlation between IMDB rating score and Rotten Tomatoes Score is',corr_imdb_meta)"
   ]
  },
  {
   "cell_type": "markdown",
   "metadata": {},
   "source": [
    "It seems like correlation between IMDB rating score and metascore are weak, proving these are two independent\n",
    "scoring system"
   ]
  },
  {
   "cell_type": "code",
   "execution_count": 8,
   "metadata": {},
   "outputs": [
    {
     "data": {
      "text/plain": [
       "<seaborn.axisgrid.FacetGrid at 0x2d47d6f3f98>"
      ]
     },
     "execution_count": 8,
     "metadata": {},
     "output_type": "execute_result"
    },
    {
     "data": {
      "image/png": "[encoded data removed]",
      "text/plain": [
       "<Figure size 360x360 with 1 Axes>"
      ]
     },
     "metadata": {
      "needs_background": "light"
     },
     "output_type": "display_data"
    }
   ],
   "source": [
    "##showing correlation plot between IMDB rating score and rotten tomatoes score,to figure out whether two scoring systems are independent\n",
    "##with each other\n",
    "sns.lmplot(x='IMDB rating score', y='Rotten Tomatoes Score', data=imdb_omdb_merged, fit_reg=True)"
   ]
  },
  {
   "cell_type": "code",
   "execution_count": 9,
   "metadata": {},
   "outputs": [
    {
     "name": "stdout",
     "output_type": "stream",
     "text": [
      "The coefficient correlation between IMDB rating score and Rotten Tomatoes Score is -0.0887694754079173\n"
     ]
    }
   ],
   "source": [
    "##calculating correlation coefficient\n",
    "corr_imdb_rotten = imdb_omdb_merged['IMDB rating score'].corr(imdb_omdb_merged['Rotten Tomatoes Score'])\n",
    "print('The coefficient correlation between IMDB rating score and Rotten Tomatoes Score is',corr_imdb_rotten)"
   ]
  },
  {
   "cell_type": "markdown",
   "metadata": {},
   "source": [
    "It seems like correlation between IMDB rating score and Rotten Tomatoes Score are weak, proving these are two independent scoring system"
   ]
  },
  {
   "cell_type": "code",
   "execution_count": 10,
   "metadata": {},
   "outputs": [
    {
     "data": {
      "text/html": [
       "<div>\n",
       "<style scoped>\n",
       "    .dataframe tbody tr th:only-of-type {\n",
       "        vertical-align: middle;\n",
       "    }\n",
       "\n",
       "    .dataframe tbody tr th {\n",
       "        vertical-align: top;\n",
       "    }\n",
       "\n",
       "    .dataframe thead th {\n",
       "        text-align: right;\n",
       "    }\n",
       "</style>\n",
       "<table border=\"1\" class=\"dataframe\">\n",
       "  <thead>\n",
       "    <tr style=\"text-align: right;\">\n",
       "      <th></th>\n",
       "      <th>IMDB rating score</th>\n",
       "      <th>number of rating</th>\n",
       "      <th>number of audience(thousands)</th>\n",
       "      <th>Metascore</th>\n",
       "      <th>Rotten Tomatoes Score</th>\n",
       "      <th>number of production company</th>\n",
       "      <th>Budget(thousands in unit)</th>\n",
       "      <th>profits in USA</th>\n",
       "    </tr>\n",
       "  </thead>\n",
       "  <tbody>\n",
       "    <tr>\n",
       "      <th>count</th>\n",
       "      <td>250.000000</td>\n",
       "      <td>2.500000e+02</td>\n",
       "      <td>250.000000</td>\n",
       "      <td>246.000000</td>\n",
       "      <td>246.000000</td>\n",
       "      <td>250.000000</td>\n",
       "      <td>250.000000</td>\n",
       "      <td>2.500000e+02</td>\n",
       "    </tr>\n",
       "    <tr>\n",
       "      <th>mean</th>\n",
       "      <td>8.304000</td>\n",
       "      <td>5.351480e+05</td>\n",
       "      <td>320.092000</td>\n",
       "      <td>82.634146</td>\n",
       "      <td>84.930894</td>\n",
       "      <td>48.776000</td>\n",
       "      <td>24885.968000</td>\n",
       "      <td>8.194149e+07</td>\n",
       "    </tr>\n",
       "    <tr>\n",
       "      <th>std</th>\n",
       "      <td>0.224557</td>\n",
       "      <td>4.588381e+05</td>\n",
       "      <td>307.349825</td>\n",
       "      <td>10.183835</td>\n",
       "      <td>22.030019</td>\n",
       "      <td>20.317505</td>\n",
       "      <td>24839.204258</td>\n",
       "      <td>1.214931e+08</td>\n",
       "    </tr>\n",
       "    <tr>\n",
       "      <th>min</th>\n",
       "      <td>8.000000</td>\n",
       "      <td>2.522900e+04</td>\n",
       "      <td>10.000000</td>\n",
       "      <td>55.000000</td>\n",
       "      <td>10.000000</td>\n",
       "      <td>8.000000</td>\n",
       "      <td>1000.000000</td>\n",
       "      <td>5.090000e+02</td>\n",
       "    </tr>\n",
       "    <tr>\n",
       "      <th>25%</th>\n",
       "      <td>8.100000</td>\n",
       "      <td>1.564195e+05</td>\n",
       "      <td>19.000000</td>\n",
       "      <td>77.000000</td>\n",
       "      <td>87.000000</td>\n",
       "      <td>31.000000</td>\n",
       "      <td>10000.000000</td>\n",
       "      <td>6.579622e+06</td>\n",
       "    </tr>\n",
       "    <tr>\n",
       "      <th>50%</th>\n",
       "      <td>8.250000</td>\n",
       "      <td>3.915860e+05</td>\n",
       "      <td>253.000000</td>\n",
       "      <td>84.000000</td>\n",
       "      <td>92.000000</td>\n",
       "      <td>49.000000</td>\n",
       "      <td>17500.000000</td>\n",
       "      <td>3.381290e+07</td>\n",
       "    </tr>\n",
       "    <tr>\n",
       "      <th>75%</th>\n",
       "      <td>8.400000</td>\n",
       "      <td>8.025395e+05</td>\n",
       "      <td>571.250000</td>\n",
       "      <td>90.000000</td>\n",
       "      <td>94.750000</td>\n",
       "      <td>63.000000</td>\n",
       "      <td>28000.000000</td>\n",
       "      <td>1.009911e+08</td>\n",
       "    </tr>\n",
       "    <tr>\n",
       "      <th>max</th>\n",
       "      <td>9.300000</td>\n",
       "      <td>2.311509e+06</td>\n",
       "      <td>985.000000</td>\n",
       "      <td>100.000000</td>\n",
       "      <td>99.000000</td>\n",
       "      <td>103.000000</td>\n",
       "      <td>97600.000000</td>\n",
       "      <td>8.583730e+08</td>\n",
       "    </tr>\n",
       "    <tr>\n",
       "      <th>range</th>\n",
       "      <td>1.300000</td>\n",
       "      <td>2.286280e+06</td>\n",
       "      <td>975.000000</td>\n",
       "      <td>45.000000</td>\n",
       "      <td>89.000000</td>\n",
       "      <td>95.000000</td>\n",
       "      <td>96600.000000</td>\n",
       "      <td>8.583725e+08</td>\n",
       "    </tr>\n",
       "    <tr>\n",
       "      <th>interquartile range</th>\n",
       "      <td>0.300000</td>\n",
       "      <td>6.461200e+05</td>\n",
       "      <td>552.250000</td>\n",
       "      <td>13.000000</td>\n",
       "      <td>7.750000</td>\n",
       "      <td>32.000000</td>\n",
       "      <td>18000.000000</td>\n",
       "      <td>9.441151e+07</td>\n",
       "    </tr>\n",
       "  </tbody>\n",
       "</table>\n",
       "</div>"
      ],
      "text/plain": [
       "                     IMDB rating score  number of rating  \\\n",
       "count                       250.000000      2.500000e+02   \n",
       "mean                          8.304000      5.351480e+05   \n",
       "std                           0.224557      4.588381e+05   \n",
       "min                           8.000000      2.522900e+04   \n",
       "25%                           8.100000      1.564195e+05   \n",
       "50%                           8.250000      3.915860e+05   \n",
       "75%                           8.400000      8.025395e+05   \n",
       "max                           9.300000      2.311509e+06   \n",
       "range                         1.300000      2.286280e+06   \n",
       "interquartile range           0.300000      6.461200e+05   \n",
       "\n",
       "                     number of audience(thousands)   Metascore  \\\n",
       "count                                   250.000000  246.000000   \n",
       "mean                                    320.092000   82.634146   \n",
       "std                                     307.349825   10.183835   \n",
       "min                                      10.000000   55.000000   \n",
       "25%                                      19.000000   77.000000   \n",
       "50%                                     253.000000   84.000000   \n",
       "75%                                     571.250000   90.000000   \n",
       "max                                     985.000000  100.000000   \n",
       "range                                   975.000000   45.000000   \n",
       "interquartile range                     552.250000   13.000000   \n",
       "\n",
       "                     Rotten Tomatoes Score  number of production company  \\\n",
       "count                           246.000000                    250.000000   \n",
       "mean                             84.930894                     48.776000   \n",
       "std                              22.030019                     20.317505   \n",
       "min                              10.000000                      8.000000   \n",
       "25%                              87.000000                     31.000000   \n",
       "50%                              92.000000                     49.000000   \n",
       "75%                              94.750000                     63.000000   \n",
       "max                              99.000000                    103.000000   \n",
       "range                            89.000000                     95.000000   \n",
       "interquartile range               7.750000                     32.000000   \n",
       "\n",
       "                     Budget(thousands in unit)  profits in USA  \n",
       "count                               250.000000    2.500000e+02  \n",
       "mean                              24885.968000    8.194149e+07  \n",
       "std                               24839.204258    1.214931e+08  \n",
       "min                                1000.000000    5.090000e+02  \n",
       "25%                               10000.000000    6.579622e+06  \n",
       "50%                               17500.000000    3.381290e+07  \n",
       "75%                               28000.000000    1.009911e+08  \n",
       "max                               97600.000000    8.583730e+08  \n",
       "range                             96600.000000    8.583725e+08  \n",
       "interquartile range               18000.000000    9.441151e+07  "
      ]
     },
     "execution_count": 10,
     "metadata": {},
     "output_type": "execute_result"
    }
   ],
   "source": [
    "##Here is basic statistics value for all features may affected for IMDB rating score.\n",
    "all_numerical_features = ['IMDB rating score','number of rating','number of audience(thousands)','Metascore','Rotten Tomatoes Score','number of production company','Budget(thousands in unit)','profits in USA']\n",
    "stats = imdb_omdb_merged[all_numerical_features].describe()\n",
    "Range = stats.T['max']-stats.T['min']\n",
    "stats = stats.append(pd.Series(Range,name='range'))\n",
    "interquartile_range = stats.T['75%']-stats.T['25%']\n",
    "stats = stats.append(pd.Series(interquartile_range,name='interquartile range'))\n",
    "stats"
   ]
  },
  {
   "cell_type": "markdown",
   "metadata": {},
   "source": [
    "From above chart, we can see that standard deviation and interquartile range for metascore\n",
    "and rotten tomatoes score are all larger than imdb rating score(in percentage term), meaning that\n",
    "fluctations in imdb rating are less volatile and more stable. The mean for three scoring systems are similar.\n",
    "one interesting thing to note that is the budget and profits vary a lot across different movies since interquartile\n",
    "range is very large. It seems like even high score rated movie does not necessarily bring equal profits for producers"
   ]
  },
  {
   "cell_type": "code",
   "execution_count": 11,
   "metadata": {},
   "outputs": [
    {
     "data": {
      "text/plain": [
       "<seaborn.axisgrid.FacetGrid at 0x2d47d78b5c0>"
      ]
     },
     "execution_count": 11,
     "metadata": {},
     "output_type": "execute_result"
    },
    {
     "data": {
      "image/png": "[encoded data removed]",
      "text/plain": [
       "<Figure size 360x360 with 1 Axes>"
      ]
     },
     "metadata": {
      "needs_background": "light"
     },
     "output_type": "display_data"
    }
   ],
   "source": [
    "##correlation scatter plot for IMDB rating score with year the movie released.\n",
    "sns.lmplot(x='IMDB rating score', y='Year', data=imdb_omdb_merged, fit_reg=True)"
   ]
  },
  {
   "cell_type": "code",
   "execution_count": 12,
   "metadata": {},
   "outputs": [
    {
     "name": "stdout",
     "output_type": "stream",
     "text": [
      "The coefficient correlation between IMDB rating score and year it released is 0.013450068704100246\n"
     ]
    }
   ],
   "source": [
    "##calculating correlation coefficient\n",
    "corr_imdb_year = imdb_omdb_merged['IMDB rating score'].corr(imdb_omdb_merged['Year'])\n",
    "print('The coefficient correlation between IMDB rating score and year it released is',corr_imdb_year)"
   ]
  },
  {
   "cell_type": "markdown",
   "metadata": {},
   "source": [
    "The correlation coefficient is so weak it seems like there is almost no relationship between imdb score with year it release."
   ]
  },
  {
   "cell_type": "code",
   "execution_count": 13,
   "metadata": {},
   "outputs": [
    {
     "data": {
      "text/plain": [
       "<seaborn.axisgrid.FacetGrid at 0x2d47d851358>"
      ]
     },
     "execution_count": 13,
     "metadata": {},
     "output_type": "execute_result"
    },
    {
     "data": {
      "image/png": "[encoded data removed]",
      "text/plain": [
       "<Figure size 360x360 with 1 Axes>"
      ]
     },
     "metadata": {
      "needs_background": "light"
     },
     "output_type": "display_data"
    }
   ],
   "source": [
    "##correlation scatter plot for IMDB rating score with movies length.\n",
    "sns.lmplot(x='IMDB rating score', y='Runtime(min)', data=imdb_omdb_merged, fit_reg=True)"
   ]
  },
  {
   "cell_type": "code",
   "execution_count": 14,
   "metadata": {},
   "outputs": [
    {
     "name": "stdout",
     "output_type": "stream",
     "text": [
      "The coefficient correlation between IMDB rating score and runtime of movie is 0.22692655620473062\n"
     ]
    }
   ],
   "source": [
    "\n",
    "corr_imdb_runtime = imdb_omdb_merged['IMDB rating score'].corr(imdb_omdb_merged['Runtime(min)'])\n",
    "print('The coefficient correlation between IMDB rating score and runtime of movie is',corr_imdb_runtime)"
   ]
  },
  {
   "cell_type": "markdown",
   "metadata": {},
   "source": [
    "The correlation coefficient is 0.226, it seems like relationship between imdb score with length of movir are weak and positive."
   ]
  },
  {
   "cell_type": "code",
   "execution_count": 15,
   "metadata": {},
   "outputs": [
    {
     "data": {
      "text/plain": [
       "<seaborn.axisgrid.FacetGrid at 0x2d47d81f828>"
      ]
     },
     "execution_count": 15,
     "metadata": {},
     "output_type": "execute_result"
    },
    {
     "data": {
      "image/png": "[encoded data removed]",
      "text/plain": [
       "<Figure size 360x360 with 1 Axes>"
      ]
     },
     "metadata": {
      "needs_background": "light"
     },
     "output_type": "display_data"
    }
   ],
   "source": [
    "##correlation scatter plot for IMDB rating score with profits movie earns in usa.\n",
    "sns.lmplot(x='IMDB rating score', y='profits in USA', data=imdb_omdb_merged, fit_reg=True)"
   ]
  },
  {
   "cell_type": "code",
   "execution_count": 16,
   "metadata": {},
   "outputs": [
    {
     "name": "stdout",
     "output_type": "stream",
     "text": [
      "The coefficient correlation between IMDB rating score and profit it earned is 0.2141365615138167\n"
     ]
    }
   ],
   "source": [
    "\n",
    "corr_imdb_profit = imdb_omdb_merged['IMDB rating score'].corr(imdb_omdb_merged['profits in USA'])\n",
    "print('The coefficient correlation between IMDB rating score and profit it earned is',corr_imdb_profit)"
   ]
  },
  {
   "cell_type": "markdown",
   "metadata": {},
   "source": [
    "the correlation coefficient equal to 0.214 indicates that the relationship between imdb rating score and profits earned is\n",
    "weak but positive. In other words, high rated profits still can bring high profits for some movies, but not very obvious to\n",
    "observe."
   ]
  },
  {
   "cell_type": "code",
   "execution_count": 17,
   "metadata": {},
   "outputs": [
    {
     "name": "stderr",
     "output_type": "stream",
     "text": [
      "C:\\Users\\Ruich\\OneDrive\\Pictures\\lib\\site-packages\\numpy\\core\\fromnumeric.py:2389: FutureWarning: Method .ptp is deprecated and will be removed in a future version. Use numpy.ptp instead.\n",
      "  return ptp(axis=axis, out=out, **kwargs)\n"
     ]
    },
    {
     "data": {
      "text/html": [
       "<table class=\"simpletable\">\n",
       "<caption>OLS Regression Results</caption>\n",
       "<tr>\n",
       "  <th>Dep. Variable:</th>    <td>IMDB rating score</td> <th>  R-squared:         </th> <td>   0.433</td>\n",
       "</tr>\n",
       "<tr>\n",
       "  <th>Model:</th>                   <td>OLS</td>        <th>  Adj. R-squared:    </th> <td>   0.419</td>\n",
       "</tr>\n",
       "<tr>\n",
       "  <th>Method:</th>             <td>Least Squares</td>   <th>  F-statistic:       </th> <td>   30.93</td>\n",
       "</tr>\n",
       "<tr>\n",
       "  <th>Date:</th>             <td>Sun, 06 Dec 2020</td>  <th>  Prob (F-statistic):</th> <td>1.65e-27</td>\n",
       "</tr>\n",
       "<tr>\n",
       "  <th>Time:</th>                 <td>11:12:40</td>      <th>  Log-Likelihood:    </th> <td>  90.107</td>\n",
       "</tr>\n",
       "<tr>\n",
       "  <th>No. Observations:</th>      <td>   250</td>       <th>  AIC:               </th> <td>  -166.2</td>\n",
       "</tr>\n",
       "<tr>\n",
       "  <th>Df Residuals:</th>          <td>   243</td>       <th>  BIC:               </th> <td>  -141.6</td>\n",
       "</tr>\n",
       "<tr>\n",
       "  <th>Df Model:</th>              <td>     6</td>       <th>                     </th>     <td> </td>   \n",
       "</tr>\n",
       "<tr>\n",
       "  <th>Covariance Type:</th>      <td>nonrobust</td>     <th>                     </th>     <td> </td>   \n",
       "</tr>\n",
       "</table>\n",
       "<table class=\"simpletable\">\n",
       "<tr>\n",
       "                <td></td>                   <th>coef</th>     <th>std err</th>      <th>t</th>      <th>P>|t|</th>  <th>[0.025</th>    <th>0.975]</th>  \n",
       "</tr>\n",
       "<tr>\n",
       "  <th>const</th>                         <td>    8.3108</td> <td>    0.035</td> <td>  237.207</td> <td> 0.000</td> <td>    8.242</td> <td>    8.380</td>\n",
       "</tr>\n",
       "<tr>\n",
       "  <th>number of rating</th>              <td> 3.396e-07</td> <td> 3.04e-08</td> <td>   11.187</td> <td> 0.000</td> <td>  2.8e-07</td> <td> 3.99e-07</td>\n",
       "</tr>\n",
       "<tr>\n",
       "  <th>number of audience(thousands)</th> <td>   -0.0001</td> <td> 3.75e-05</td> <td>   -2.937</td> <td> 0.004</td> <td>   -0.000</td> <td>-3.63e-05</td>\n",
       "</tr>\n",
       "<tr>\n",
       "  <th>number of production company</th>  <td>   -0.0022</td> <td>    0.001</td> <td>   -3.967</td> <td> 0.000</td> <td>   -0.003</td> <td>   -0.001</td>\n",
       "</tr>\n",
       "<tr>\n",
       "  <th>Budget(thousands in unit)</th>     <td>-6.196e-07</td> <td> 4.62e-07</td> <td>   -1.340</td> <td> 0.181</td> <td>-1.53e-06</td> <td> 2.91e-07</td>\n",
       "</tr>\n",
       "<tr>\n",
       "  <th>profits in USA</th>                <td>-9.241e-10</td> <td> 3.05e-10</td> <td>   -3.026</td> <td> 0.003</td> <td>-1.53e-09</td> <td>-3.23e-10</td>\n",
       "</tr>\n",
       "<tr>\n",
       "  <th>gross worldwide profit</th>        <td> 2.466e-10</td> <td> 1.08e-10</td> <td>    2.292</td> <td> 0.023</td> <td> 3.47e-11</td> <td> 4.59e-10</td>\n",
       "</tr>\n",
       "</table>\n",
       "<table class=\"simpletable\">\n",
       "<tr>\n",
       "  <th>Omnibus:</th>       <td>15.353</td> <th>  Durbin-Watson:     </th> <td>   1.015</td>\n",
       "</tr>\n",
       "<tr>\n",
       "  <th>Prob(Omnibus):</th> <td> 0.000</td> <th>  Jarque-Bera (JB):  </th> <td>  16.804</td>\n",
       "</tr>\n",
       "<tr>\n",
       "  <th>Skew:</th>          <td> 0.552</td> <th>  Prob(JB):          </th> <td>0.000224</td>\n",
       "</tr>\n",
       "<tr>\n",
       "  <th>Kurtosis:</th>      <td> 3.629</td> <th>  Cond. No.          </th> <td>1.32e+09</td>\n",
       "</tr>\n",
       "</table><br/><br/>Warnings:<br/>[1] Standard Errors assume that the covariance matrix of the errors is correctly specified.<br/>[2] The condition number is large, 1.32e+09. This might indicate that there are<br/>strong multicollinearity or other numerical problems."
      ],
      "text/plain": [
       "<class 'statsmodels.iolib.summary.Summary'>\n",
       "\"\"\"\n",
       "                            OLS Regression Results                            \n",
       "==============================================================================\n",
       "Dep. Variable:      IMDB rating score   R-squared:                       0.433\n",
       "Model:                            OLS   Adj. R-squared:                  0.419\n",
       "Method:                 Least Squares   F-statistic:                     30.93\n",
       "Date:                Sun, 06 Dec 2020   Prob (F-statistic):           1.65e-27\n",
       "Time:                        11:12:40   Log-Likelihood:                 90.107\n",
       "No. Observations:                 250   AIC:                            -166.2\n",
       "Df Residuals:                     243   BIC:                            -141.6\n",
       "Df Model:                           6                                         \n",
       "Covariance Type:            nonrobust                                         \n",
       "=================================================================================================\n",
       "                                    coef    std err          t      P>|t|      [0.025      0.975]\n",
       "-------------------------------------------------------------------------------------------------\n",
       "const                             8.3108      0.035    237.207      0.000       8.242       8.380\n",
       "number of rating               3.396e-07   3.04e-08     11.187      0.000     2.8e-07    3.99e-07\n",
       "number of audience(thousands)    -0.0001   3.75e-05     -2.937      0.004      -0.000   -3.63e-05\n",
       "number of production company     -0.0022      0.001     -3.967      0.000      -0.003      -0.001\n",
       "Budget(thousands in unit)     -6.196e-07   4.62e-07     -1.340      0.181   -1.53e-06    2.91e-07\n",
       "profits in USA                -9.241e-10   3.05e-10     -3.026      0.003   -1.53e-09   -3.23e-10\n",
       "gross worldwide profit         2.466e-10   1.08e-10      2.292      0.023    3.47e-11    4.59e-10\n",
       "==============================================================================\n",
       "Omnibus:                       15.353   Durbin-Watson:                   1.015\n",
       "Prob(Omnibus):                  0.000   Jarque-Bera (JB):               16.804\n",
       "Skew:                           0.552   Prob(JB):                     0.000224\n",
       "Kurtosis:                       3.629   Cond. No.                     1.32e+09\n",
       "==============================================================================\n",
       "\n",
       "Warnings:\n",
       "[1] Standard Errors assume that the covariance matrix of the errors is correctly specified.\n",
       "[2] The condition number is large, 1.32e+09. This might indicate that there are\n",
       "strong multicollinearity or other numerical problems.\n",
       "\"\"\""
      ]
     },
     "execution_count": 17,
     "metadata": {},
     "output_type": "execute_result"
    }
   ],
   "source": [
    "##Statistics charts for correlation between all numeric features (in imdb dataset) and imdb rating score, to make sure\n",
    "##which features can affect imdb rating score\n",
    "import statsmodels.api as sm # import statsmodels\n",
    "all_numerical_features_X = ['number of rating','number of audience(thousands)','number of production company','Budget(thousands in unit)','profits in USA','gross worldwide profit']\n",
    "x = imdb_omdb_merged[all_numerical_features_X]\n",
    "y = imdb_omdb_merged['IMDB rating score']\n",
    "x = sm.add_constant(x) ## let's add an intercept (beta_0) to our model\n",
    "\n",
    "# Note the difference in argument order\n",
    "model = sm.OLS(y, x).fit() ## sm.OLS(output, input)\n",
    "predictions = model.predict(x)\n",
    "\n",
    "# Print out the statistics\n",
    "model.summary()"
   ]
  },
  {
   "cell_type": "markdown",
   "metadata": {},
   "source": [
    "From above chart, we can see the coefficients for all features are all negative so all features have adversial effects to imdb score(interesting to explore). For budget estimated, the p value is so large so we no longer consider it. By observing t value, t value in number of rating is largest so it has largest influences to imdb rating score among these six feature"
   ]
  },
  {
   "cell_type": "code",
   "execution_count": 18,
   "metadata": {},
   "outputs": [
    {
     "name": "stdout",
     "output_type": "stream",
     "text": [
      "R^2 for IMDB rating score and number of rating is 0.3475795126773388\n",
      "R^2 for IMDB rating score and number of audience(thousands) is 0.10247378996261043\n",
      "R^2 for IMDB rating score and number of production company is 0.002149978681452518\n",
      "R^2 for IMDB rating score and Budget(thousands in unit) is 0.003846724683145731\n",
      "R^2 for IMDB rating score and profits in USA is 0.045854466976960585\n",
      "R^2 for IMDB rating score and gross worldwide profit is 0.045242411877035184\n"
     ]
    }
   ],
   "source": [
    "##Double ensure what features may affect imdb rating score by using R^2 to judge it.\n",
    "def r_square(x,y):\n",
    "    correlation_matrix = np.corrcoef(x,y)\n",
    "    correlation_xy = correlation_matrix[0,1]\n",
    "    r_squared = correlation_xy**2\n",
    "    return r_squared\n",
    "\n",
    "print('R^2 for IMDB rating score and number of rating is', r_square(imdb_omdb_merged['number of rating'],imdb_omdb_merged['IMDB rating score']))\n",
    "print('R^2 for IMDB rating score and number of audience(thousands) is', r_square(imdb_omdb_merged['number of audience(thousands)'],imdb_omdb_merged['IMDB rating score']))\n",
    "print('R^2 for IMDB rating score and number of production company is', r_square(imdb_omdb_merged['number of production company'],imdb_omdb_merged['IMDB rating score']))\n",
    "print('R^2 for IMDB rating score and Budget(thousands in unit) is', r_square(imdb_omdb_merged['Budget(thousands in unit)'],imdb_omdb_merged['IMDB rating score']))\n",
    "print('R^2 for IMDB rating score and profits in USA is', r_square(imdb_omdb_merged['profits in USA'],imdb_omdb_merged['IMDB rating score']))\n",
    "print('R^2 for IMDB rating score and gross worldwide profit is', r_square(imdb_omdb_merged['gross worldwide profit'],imdb_omdb_merged['IMDB rating score']))"
   ]
  },
  {
   "cell_type": "markdown",
   "metadata": {},
   "source": [
    "By observing r^2 for these features, r^2 in number of rating is largest, that correspond to its large t value. For remaining\n",
    "features, their r^2 is all so small so its not very useful to use them to predict imdb rating score"
   ]
  },
  {
   "cell_type": "code",
   "execution_count": 19,
   "metadata": {},
   "outputs": [
    {
     "data": {
      "text/plain": [
       "<seaborn.axisgrid.FacetGrid at 0x2d47eb86e10>"
      ]
     },
     "execution_count": 19,
     "metadata": {},
     "output_type": "execute_result"
    },
    {
     "data": {
      "image/png": "[encoded data removed]",
      "text/plain": [
       "<Figure size 360x360 with 1 Axes>"
      ]
     },
     "metadata": {
      "needs_background": "light"
     },
     "output_type": "display_data"
    }
   ],
   "source": [
    "##correlation scatter plot for IMDB rating score with number of people who rate movie in usa.\n",
    "sns.lmplot(x='IMDB rating score', y='number of rating', data=imdb_omdb_merged, fit_reg=True)"
   ]
  },
  {
   "cell_type": "code",
   "execution_count": 20,
   "metadata": {},
   "outputs": [
    {
     "name": "stdout",
     "output_type": "stream",
     "text": [
      "The coefficient correlation between IMDB rating score and number who rate this movie is 0.5895587440428128\n"
     ]
    }
   ],
   "source": [
    "corr_imdb_numrating = imdb_omdb_merged['IMDB rating score'].corr(imdb_omdb_merged['number of rating'])\n",
    "print('The coefficient correlation between IMDB rating score and number who rate this movie is',corr_imdb_numrating)"
   ]
  },
  {
   "cell_type": "markdown",
   "metadata": {},
   "source": [
    "Indeed, the correlation between imdb score with number of rating is strong and positive, meaning for high scored rated movie, there is more people willing to rate score. "
   ]
  },
  {
   "cell_type": "code",
   "execution_count": 21,
   "metadata": {
    "scrolled": false
   },
   "outputs": [],
   "source": [
    "##load oscar_dataset and merge it with two other \n",
    "oscar_info.rename(columns = {'Film':'Title'}, inplace = True) \n",
    "imdb_oscar_merged_data = pd.merge(imdb_info,oscar_info,on='Title',how='outer')\n",
    "# There are some movies present in oscars but not in imdb_data so remove them,as they have ranking with nan value\n",
    "imdb_oscar_merged_data =imdb_oscar_merged_data[imdb_oscar_merged_data[\"Title\"].notna()]\n",
    "# For year,awards,and nomination columns where data is nan(present in imdb not in oscars table) fill it 0 as speciifed in the question\n",
    "imdb_oscar_merged_data = imdb_oscar_merged_data.fillna(0)\n",
    "imdb_oscar_merged_data = imdb_oscar_merged_data[:250]\n",
    "imdb_oscar_merged_data = imdb_oscar_merged_data.drop(columns=['Year'])\n",
    "#merged_data[['highest rating score','number of rating','number of audience(thousands)','gross worldwide profit','number of production company','Budget(thousands in unit)','profits in USA']].astype(int)\n",
    "\n",
    "##In nominations and awards, by oscar award rules(which I search it on Google), there have some columns, for instance, in second row, 'The Godfather' nomination is 10[4],which\n",
    "##means nomination equal to the larger number, since 10>4, so 10[4]=10 in this case.\n",
    "imdb_oscar_merged_data.loc[imdb_oscar_merged_data.Title == \"The Godfather\", \"Nominations\"] = 10\n",
    "##Same to apply when title = Raiders of the Lost Ark, awards with 1(4) equal to 4\n",
    "imdb_oscar_merged_data.loc[imdb_oscar_merged_data.Title == \"Raiders of the Lost Ark\", \"Awards\"] = 4\n",
    "##Same to apply when title = Toy Story, awards with 0(1) equal to 1\n",
    "imdb_oscar_merged_data.loc[imdb_oscar_merged_data.Title == \"Toy Story\", \"Awards\"] = 1\n",
    "\n"
   ]
  },
  {
   "cell_type": "code",
   "execution_count": 22,
   "metadata": {},
   "outputs": [
    {
     "data": {
      "text/plain": [
       "<seaborn.axisgrid.FacetGrid at 0x2d47ec0a828>"
      ]
     },
     "execution_count": 22,
     "metadata": {},
     "output_type": "execute_result"
    },
    {
     "data": {
      "image/png": "[encoded data removed]",
      "text/plain": [
       "<Figure size 360x360 with 1 Axes>"
      ]
     },
     "metadata": {
      "needs_background": "light"
     },
     "output_type": "display_data"
    }
   ],
   "source": [
    "##correlation scatter plot for IMDB rating score with oscar awards the movie gain\n",
    "imdb_oscar_merged_data[\"Awards\"] = imdb_oscar_merged_data[\"Awards\"].astype(int)\n",
    "sns.lmplot(x='Awards', y='IMDB rating score', data=imdb_oscar_merged_data, fit_reg=True)"
   ]
  },
  {
   "cell_type": "code",
   "execution_count": 23,
   "metadata": {},
   "outputs": [
    {
     "name": "stdout",
     "output_type": "stream",
     "text": [
      "The coefficient correlation between IMDB rating score and number of oscar awards movie gain is 0.22108974130574177\n"
     ]
    }
   ],
   "source": [
    "award_imdb_corr = imdb_oscar_merged_data['Awards'].corr(imdb_oscar_merged_data['IMDB rating score'])\n",
    "print('The coefficient correlation between IMDB rating score and number of oscar awards movie gain is',award_imdb_corr)"
   ]
  },
  {
   "cell_type": "markdown",
   "metadata": {},
   "source": [
    "There is weak but positive correlation between IMDB rating score and number of oscar awards movie gain. High rated movies are more likely to gain oscar awards, but pattern is not obvious."
   ]
  },
  {
   "cell_type": "code",
   "execution_count": 24,
   "metadata": {},
   "outputs": [
    {
     "data": {
      "text/plain": [
       "<seaborn.axisgrid.FacetGrid at 0x2d47ec8f5f8>"
      ]
     },
     "execution_count": 24,
     "metadata": {},
     "output_type": "execute_result"
    },
    {
     "data": {
      "image/png": "[encoded data removed]",
      "text/plain": [
       "<Figure size 360x360 with 1 Axes>"
      ]
     },
     "metadata": {
      "needs_background": "light"
     },
     "output_type": "display_data"
    }
   ],
   "source": [
    "##correlation scatter plot for IMDB rating score with oscar nominations movie gain\n",
    "imdb_oscar_merged_data[\"Nominations\"] = imdb_oscar_merged_data[\"Nominations\"].astype(int)\n",
    "sns.lmplot(x='Nominations', y='IMDB rating score', data=imdb_oscar_merged_data, fit_reg=True)"
   ]
  },
  {
   "cell_type": "code",
   "execution_count": 25,
   "metadata": {},
   "outputs": [
    {
     "name": "stdout",
     "output_type": "stream",
     "text": [
      "The coefficient correlation between IMDB rating score and number of oscar nominations movie gain is 0.1992196249394076\n"
     ]
    }
   ],
   "source": [
    "nomination_imdb_corr = imdb_oscar_merged_data['Nominations'].corr(imdb_oscar_merged_data['IMDB rating score'])\n",
    "print('The coefficient correlation between IMDB rating score and number of oscar nominations movie gain is',nomination_imdb_corr)"
   ]
  },
  {
   "cell_type": "markdown",
   "metadata": {},
   "source": [
    "There is weak but positive correlation between IMDB rating score and number of oscar nominations movie gain. High rated movies are more likely to gain oscar awards, but pattern is not obvious."
   ]
  },
  {
   "cell_type": "code",
   "execution_count": 26,
   "metadata": {},
   "outputs": [
    {
     "data": {
      "text/plain": [
       "Index(['Title', 'url link', 'IMDB rating score', 'highest rating score',\n",
       "       'number of rating', 'number of audience(thousands)', 'movie type',\n",
       "       'movie length', 'movie genre', 'movie released date', 'stars',\n",
       "       'gross worldwide profit', 'number of production company',\n",
       "       'Budget(thousands in unit)', 'profits in USA', 'movie description',\n",
       "       'Awards', 'Nominations', 'Metascore', 'Rotten Tomatoes Score', 'Year',\n",
       "       'Country', 'Runtime(min)', 'Language', 'Director', 'Writer',\n",
       "       'Production Company', 'Type', 'Plot'],\n",
       "      dtype='object')"
      ]
     },
     "execution_count": 26,
     "metadata": {},
     "output_type": "execute_result"
    }
   ],
   "source": [
    "##Finally, merge all three dataset together\n",
    "imdb_omdb_oscar_merged_data = pd.merge(imdb_oscar_merged_data,omdb_info,on='Title',how='outer')\n",
    "imdb_omdb_oscar_merged_data.columns"
   ]
  },
  {
   "cell_type": "code",
   "execution_count": 27,
   "metadata": {},
   "outputs": [
    {
     "data": {
      "text/plain": [
       "<seaborn.axisgrid.FacetGrid at 0x2d47fcaee10>"
      ]
     },
     "execution_count": 27,
     "metadata": {},
     "output_type": "execute_result"
    },
    {
     "data": {
      "image/png": "[encoded data removed]",
      "text/plain": [
       "<Figure size 360x360 with 1 Axes>"
      ]
     },
     "metadata": {
      "needs_background": "light"
     },
     "output_type": "display_data"
    }
   ],
   "source": [
    "##correlation scatter plot for metascore with number of oscar awards movie gain.\n",
    "sns.lmplot(x='Awards', y='Metascore', data=imdb_omdb_oscar_merged_data, fit_reg=True)"
   ]
  },
  {
   "cell_type": "code",
   "execution_count": 28,
   "metadata": {},
   "outputs": [
    {
     "name": "stdout",
     "output_type": "stream",
     "text": [
      "The coefficient correlation between Metascore and number of oscar award movie gain is 0.09644491258154109\n"
     ]
    }
   ],
   "source": [
    "award_metascore_corr = imdb_omdb_oscar_merged_data['Awards'].corr(imdb_omdb_oscar_merged_data['Metascore'])\n",
    "print('The coefficient correlation between Metascore and number of oscar award movie gain is',award_metascore_corr)"
   ]
  },
  {
   "cell_type": "code",
   "execution_count": 29,
   "metadata": {},
   "outputs": [
    {
     "data": {
      "text/plain": [
       "<seaborn.axisgrid.FacetGrid at 0x2d47fd28eb8>"
      ]
     },
     "execution_count": 29,
     "metadata": {},
     "output_type": "execute_result"
    },
    {
     "data": {
      "image/png": "[encoded data removed]",
      "text/plain": [
       "<Figure size 360x360 with 1 Axes>"
      ]
     },
     "metadata": {
      "needs_background": "light"
     },
     "output_type": "display_data"
    }
   ],
   "source": [
    "##correlation scatter plot for metascore with number of oscar nomination movie gain\n",
    "sns.lmplot(x='Nominations', y='Metascore', data=imdb_omdb_oscar_merged_data, fit_reg=True)"
   ]
  },
  {
   "cell_type": "code",
   "execution_count": 30,
   "metadata": {},
   "outputs": [
    {
     "name": "stdout",
     "output_type": "stream",
     "text": [
      "The coefficient correlation between Metascore and number of oscar nominations movie gain is 0.09144647798059032\n"
     ]
    }
   ],
   "source": [
    "nomination_metascore_corr = imdb_omdb_oscar_merged_data['Nominations'].corr(imdb_omdb_oscar_merged_data['Metascore'])\n",
    "print('The coefficient correlation between Metascore and number of oscar nominations movie gain is',nomination_metascore_corr)"
   ]
  },
  {
   "cell_type": "code",
   "execution_count": 31,
   "metadata": {},
   "outputs": [
    {
     "data": {
      "text/plain": [
       "<seaborn.axisgrid.FacetGrid at 0x2d47fd8f828>"
      ]
     },
     "execution_count": 31,
     "metadata": {},
     "output_type": "execute_result"
    },
    {
     "data": {
      "image/png": "[encoded data removed]",
      "text/plain": [
       "<Figure size 360x360 with 1 Axes>"
      ]
     },
     "metadata": {
      "needs_background": "light"
     },
     "output_type": "display_data"
    }
   ],
   "source": [
    "##correlation scatter plot for rotten tomatoes score with number of oscar awards movie gain\n",
    "sns.lmplot(x='Awards', y='Rotten Tomatoes Score', data=imdb_omdb_oscar_merged_data, fit_reg=True)"
   ]
  },
  {
   "cell_type": "code",
   "execution_count": 32,
   "metadata": {},
   "outputs": [
    {
     "name": "stdout",
     "output_type": "stream",
     "text": [
      "The coefficient correlation between rotten tomato score and number of oscar award movie gain is 0.1373785810898931\n"
     ]
    }
   ],
   "source": [
    "award_tomato_corr = imdb_omdb_oscar_merged_data['Awards'].corr(imdb_omdb_oscar_merged_data['Rotten Tomatoes Score'])\n",
    "print('The coefficient correlation between rotten tomato score and number of oscar award movie gain is',award_tomato_corr)"
   ]
  },
  {
   "cell_type": "code",
   "execution_count": 33,
   "metadata": {},
   "outputs": [
    {
     "data": {
      "text/plain": [
       "<seaborn.axisgrid.FacetGrid at 0x2d47fdf8d68>"
      ]
     },
     "execution_count": 33,
     "metadata": {},
     "output_type": "execute_result"
    },
    {
     "data": {
      "image/png": "[encoded data removed]",
      "text/plain": [
       "<Figure size 360x360 with 1 Axes>"
      ]
     },
     "metadata": {
      "needs_background": "light"
     },
     "output_type": "display_data"
    }
   ],
   "source": [
    "##correlation scatter plot for rotten tomatoes score with number of oscar nominations movie gain\n",
    "sns.lmplot(x='Nominations', y='Rotten Tomatoes Score', data=imdb_omdb_oscar_merged_data, fit_reg=True)"
   ]
  },
  {
   "cell_type": "code",
   "execution_count": 34,
   "metadata": {},
   "outputs": [
    {
     "name": "stdout",
     "output_type": "stream",
     "text": [
      "The coefficient correlation between rotten tomato score and number of oscar nominations movie gain is 0.14973357414500169\n"
     ]
    }
   ],
   "source": [
    "nomination_tomato_corr = imdb_omdb_oscar_merged_data['Nominations'].corr(imdb_omdb_oscar_merged_data['Rotten Tomatoes Score'])\n",
    "print('The coefficient correlation between rotten tomato score and number of oscar nominations movie gain is',nomination_tomato_corr)"
   ]
  },
  {
   "cell_type": "markdown",
   "metadata": {},
   "source": [
    "However, for other two scoring system:metascore and rotten tomatoes score, the correlation between scores and oscar award/nominations are weaker compared with imdb rating."
   ]
  },
  {
   "cell_type": "code",
   "execution_count": 35,
   "metadata": {},
   "outputs": [
    {
     "data": {
      "text/plain": [
       "<seaborn.axisgrid.FacetGrid at 0x2d47fe63b38>"
      ]
     },
     "execution_count": 35,
     "metadata": {},
     "output_type": "execute_result"
    },
    {
     "data": {
      "image/png": "[encoded data removed]",
      "text/plain": [
       "<Figure size 360x360 with 1 Axes>"
      ]
     },
     "metadata": {
      "needs_background": "light"
     },
     "output_type": "display_data"
    }
   ],
   "source": [
    "####correlation scatter plot for oscar nominations with number of oscar awards movie gain\n",
    "sns.lmplot(x='Awards', y='Nominations', data=imdb_omdb_oscar_merged_data, fit_reg=True)"
   ]
  },
  {
   "cell_type": "code",
   "execution_count": 36,
   "metadata": {},
   "outputs": [
    {
     "name": "stdout",
     "output_type": "stream",
     "text": [
      "The coefficient correlation between number of nominations and number of oscar award movie gain is 0.8783274328522259\n"
     ]
    }
   ],
   "source": [
    "award_nomination_corr = imdb_omdb_oscar_merged_data['Awards'].corr(imdb_omdb_oscar_merged_data['Nominations'])\n",
    "print('The coefficient correlation between number of nominations and number of oscar award movie gain is',award_nomination_corr)"
   ]
  },
  {
   "cell_type": "markdown",
   "metadata": {},
   "source": [
    "Interestingly, there is very strong positive correlation between oscar awards and nominations. It seems like for movies gaining\n",
    "oscar awards, it is very likely that it also gain nominations. Moreover, more oscar awards it win, more nominations it likely to win."
   ]
  },
  {
   "cell_type": "code",
   "execution_count": 37,
   "metadata": {},
   "outputs": [
    {
     "data": {
      "text/plain": [
       "Text(0.5, 0, 'Awards')"
      ]
     },
     "execution_count": 37,
     "metadata": {},
     "output_type": "execute_result"
    },
    {
     "data": {
      "image/png": "[encoded data removed]",
      "text/plain": [
       "<Figure size 432x288 with 1 Axes>"
      ]
     },
     "metadata": {
      "needs_background": "light"
     },
     "output_type": "display_data"
    }
   ],
   "source": [
    "##3d data visualization to show relationship between imdb score, nomination and award\n",
    "from mpl_toolkits import mplot3d\n",
    "ax = plt.axes(projection='3d')\n",
    "xdata = imdb_omdb_oscar_merged_data['IMDB rating score']\n",
    "ydata = imdb_omdb_oscar_merged_data['Nominations']\n",
    "zdata = imdb_omdb_oscar_merged_data['Awards']\n",
    "ax.scatter3D(xdata, ydata, zdata, c=zdata, cmap='Reds')\n",
    "ax.set_xlabel('IMDB rating score')\n",
    "ax.set_ylabel('Nominations')\n",
    "ax.set_zlabel('Awards')"
   ]
  },
  {
   "cell_type": "markdown",
   "metadata": {},
   "source": [
    "From this 3D plot, we can see that for movie with higher imdb rating score, although correlation is not very strong, it is more likely to gain awards and nomination, especially for movie rated 8.6 or higher. For movies score lower than 8.6, nominations are easier to gain than awards since there are so many points lies in horizontial plane.(no awards gain)"
   ]
  },
  {
   "cell_type": "code",
   "execution_count": 38,
   "metadata": {},
   "outputs": [
    {
     "data": {
      "image/png": "[encoded data removed]",
      "text/plain": [
       "<Figure size 432x432 with 1 Axes>"
      ]
     },
     "metadata": {},
     "output_type": "display_data"
    }
   ],
   "source": [
    "##counts of overall imdb score rating in pie chart form\n",
    "imdb_rating_piechart = imdb_omdb_oscar_merged_data.groupby(imdb_omdb_oscar_merged_data['IMDB rating score'])['number of rating'].count().plot(kind='pie',figsize=(6,6))"
   ]
  },
  {
   "cell_type": "markdown",
   "metadata": {},
   "source": [
    "From this pie chart, we say most movies' imdb rates lie between 8.1-8.3. Only very small portion of movies score 9.0 or higher"
   ]
  },
  {
   "cell_type": "code",
   "execution_count": 39,
   "metadata": {},
   "outputs": [
    {
     "data": {
      "image/png": "[encoded data removed]",
      "text/plain": [
       "<Figure size 432x432 with 1 Axes>"
      ]
     },
     "metadata": {
      "needs_background": "light"
     },
     "output_type": "display_data"
    }
   ],
   "source": [
    "##count of overall imdb score rating in bar chart form\n",
    "imdb_rating_barchart = imdb_omdb_oscar_merged_data.groupby(imdb_omdb_oscar_merged_data['IMDB rating score'])['number of rating'].count().plot(kind='bar',figsize=(6,6))"
   ]
  },
  {
   "cell_type": "markdown",
   "metadata": {},
   "source": [
    "From bar plot, there is rough approximately 70+50+45=165 movies get scores between 8.1-8.3. Roughly, less than 10 movies gain 9.0 scores or higher."
   ]
  },
  {
   "cell_type": "code",
   "execution_count": 40,
   "metadata": {},
   "outputs": [
    {
     "data": {
      "image/png": "[encoded data removed]",
      "text/plain": [
       "<Figure size 432x432 with 1 Axes>"
      ]
     },
     "metadata": {
      "needs_background": "light"
     },
     "output_type": "display_data"
    }
   ],
   "source": [
    "##count of overall number of oscar awards in pie chart form\n",
    "award_barchart = imdb_omdb_oscar_merged_data.groupby(imdb_omdb_oscar_merged_data['Awards'])['IMDB rating score'].count().plot(kind='bar',figsize=(6,6))"
   ]
  },
  {
   "cell_type": "markdown",
   "metadata": {},
   "source": [
    "From this bar plot, we know that high scores movies does not necessarily gain oscar awards.(Since my dataset are constituted of top 250 movies, so I think they are all high scored movie) Exceed 160 movies doesn't gain oscar awards. So it seems oscar judging criteria are very stirct. The distribution for movies gaining 1-11 awards are right skewed. It seems like gaining 1 or 2 oscar awards are relative easy than gaining multiple awards"
   ]
  },
  {
   "cell_type": "code",
   "execution_count": 41,
   "metadata": {},
   "outputs": [
    {
     "data": {
      "image/png": "[encoded data removed]",
      "text/plain": [
       "<Figure size 432x432 with 1 Axes>"
      ]
     },
     "metadata": {
      "needs_background": "light"
     },
     "output_type": "display_data"
    }
   ],
   "source": [
    "##count of overall nominations in pie chart form\n",
    "nomination_barchart = imdb_omdb_oscar_merged_data.groupby(imdb_omdb_oscar_merged_data['Nominations'])['IMDB rating score'].count().plot(kind='bar',figsize=(6,6))"
   ]
  },
  {
   "cell_type": "markdown",
   "metadata": {},
   "source": [
    "From this bar plot, we know that high scores movies does not necessarily gain oscar nominatinss. Exceed 160 movies doesn't gain oscar nominations. So it seems oscar judging criteria are very stirct. The distribution for movies gaining 1-13 nominations are uniformly distributed. "
   ]
  },
  {
   "cell_type": "markdown",
   "metadata": {},
   "source": [
    "### Conclusion"
   ]
  },
  {
   "cell_type": "markdown",
   "metadata": {},
   "source": [
    "It seems like most of features(movie length, budget, profits earned, oscar awards and nominations) have positive but weak correlationship with imdb rating score. It is a little bit unexpected. Originally I think more features will have strong positivecorrelation with imdb rating scores, like profits earned, oscar awards and nominations gained. The truth is that correlation indeed is positive, but less stronger than I originally thought. Thus, I can infer that for high rated movies, they are indeed likely to have longer movie length, earn more profits, gain more oscar awards and nominations, but it is not very obvious. By the way, The strongest correlation I found is that between number of people who rate this movie and imdb rating score. It seems like high rated movies will likely have more people to rate this, or vice versa. Moreover, it seems like imdb, metascore, rotten tomatoes scores are three independent scoreing systems since their mutual correlation approach to zero.  "
   ]
  },
  {
   "cell_type": "code",
   "execution_count": null,
   "metadata": {},
   "outputs": [],
   "source": []
  }
 ],
 "metadata": {
  "kernelspec": {
   "display_name": "Python 3",
   "language": "python",
   "name": "python3"
  },
  "language_info": {
   "codemirror_mode": {
    "name": "ipython",
    "version": 3
   },
   "file_extension": ".py",
   "mimetype": "text/x-python",
   "name": "python",
   "nbconvert_exporter": "python",
   "pygments_lexer": "ipython3",
   "version": "3.7.3"
  }
 },
 "nbformat": 4,
 "nbformat_minor": 2
}
